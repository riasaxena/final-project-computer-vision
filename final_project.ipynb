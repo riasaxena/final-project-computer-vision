{
 "cells": [
  {
   "cell_type": "code",
   "execution_count": 3,
   "id": "9bab2e29",
   "metadata": {},
   "outputs": [],
   "source": [
    "import numpy as np\n",
    "import matplotlib.pyplot as plt\n",
    "import cv2\n",
    "import glob\n",
    "import pickle\n",
    "import visutils\n",
    "import camutils as cam\n",
    "import selectpoints\n",
    "import meshutils\n",
    "import matplotlib.patches as patches\n",
    "from mpl_toolkits.mplot3d import Axes3D\n",
    "import scipy\n",
    "import trimesh"
   ]
  },
  {
   "cell_type": "markdown",
   "id": "674da94f-5d08-4ef8-b812-7f7606ddf057",
   "metadata": {},
   "source": [
    "# 1. Calibrate\n",
    "Utilize the calibrate.py script from assignment 2 to get accurate intrinsic parameters for the scanner cameras using the images in the calib_jpg_u directory. Also use your calibration method (or possibly the opencv calibration function) to determine the extrinsic parameters."
   ]
  },
  {
   "cell_type": "code",
   "execution_count": 4,
   "id": "44a77ff3-a0d0-4851-b785-35876b0116ae",
   "metadata": {},
   "outputs": [],
   "source": [
    "# Individual intrinsic parameters\n",
    "fx =  1405.3079107410365\n",
    "fy =  1403.8940216103742\n",
    "cx =  962.1673692606323\n",
    "cy =  590.915956814067"
   ]
  },
  {
   "cell_type": "code",
   "execution_count": null,
   "id": "bc698cae-803f-420d-b166-0f5c1d5068d7",
   "metadata": {},
   "outputs": [],
   "source": []
  },
  {
   "cell_type": "code",
   "execution_count": 5,
   "id": "5f7262ab",
   "metadata": {},
   "outputs": [],
   "source": [
    "favg = (fx+fy)/2\n",
    "\n",
    "# create Camera objects representing the left and right cameras\n",
    "# use the known intrinsic parameters you loaded in.\n",
    "camL = cam.Camera(f=favg,c=np.array([[cx,cy]]).T,t=np.array([[0,0,0]]).T, R=cam.makerotation(0,0,0))\n",
    "camR = cam.Camera(f=favg,c=np.array([[cx,cy]]).T,t=np.array([[0,0,0]]).T, R=cam.makerotation(0,0,0))\n",
    "\n",
    "# load in the left and right images and find the coordinates of\n",
    "# the chessboard corners using OpenCV\n",
    "imgL = plt.imread('calib_jpg_u/frame_C0_01.jpg')\n",
    "ret, cornersL = cv2.findChessboardCorners(imgL, (8,6), None)\n",
    "pts2L = cornersL.squeeze().T\n",
    "\n",
    "imgR = plt.imread('calib_jpg_u/frame_C1_01.jpg')\n",
    "ret, cornersR = cv2.findChessboardCorners(imgR, (8,6), None)\n",
    "pts2R = cornersR.squeeze().T\n",
    "\n",
    "# generate the known 3D point coordinates of points on the checkerboard in cm\n",
    "pts3 = np.zeros((3,6*8))\n",
    "yy,xx = np.meshgrid(np.arange(8),np.arange(6))\n",
    "pts3[0,:] = 2.8*xx.reshape(1,-1)\n",
    "pts3[1,:] = 2.8*yy.reshape(1,-1)\n",
    "\n",
    "\n",
    "# Now use your calibratePose function to get the extrinsic parameters\n",
    "# for the two images. You may need to experiment with the initialization\n",
    "# in order to get a good result\n",
    "params_init = np.array([0,0,0,0,0,-2]) \n",
    "\n",
    "camL = cam.calibratePose(pts3,pts2L,camL,params_init)\n",
    "camR = cam.calibratePose(pts3,pts2R,camR,params_init)\n",
    "# As a final test, triangulate the corners of the checkerboard to get back there 3D locations\n",
    "# pts3r = cam.triangulate(pts2L,camL,pts2R,camR)\n",
    "\n",
    "# # Display the reprojected points overlayed on the images to make \n",
    "# # sure they line up\n",
    "# plt.rcParams['figure.figsize']=[15,15]\n",
    "# pts2Lp = camL.project(pts3)\n",
    "# plt.imshow(imgL)\n",
    "# plt.plot(pts2Lp[0,:],pts2Lp[1,:],'bo')\n",
    "# plt.plot(pts2L[0,:],pts2L[1,:],'rx')\n",
    "# plt.show()\n",
    "\n",
    "# pts2Rp = camR.project(pts3)\n",
    "# plt.imshow(imgR)\n",
    "# plt.plot(pts2Rp[0,:],pts2Rp[1,:],'bo')\n",
    "# plt.plot(pts2R[0,:],pts2R[1,:],'rx')ppi\n",
    "# plt.show()"
   ]
  },
  {
   "cell_type": "markdown",
   "id": "46a811de-c9b8-4b73-a571-3be7a6a32c1e",
   "metadata": {},
   "source": [
    "# 2. Reconstruct\n",
    "Modify your reconstruct function from assignment 4 to make use of the two color images collected from each camera (i.e., color_C0_00/01). Compute an object mask by taking the difference of the object color image and the background image and thresholding the difference to determine the set of pixels that belong to the foreground object. You should combine this mask along with your decoding mask in order to avoid triangulating pixels that are part of the background"
   ]
  },
  {
   "cell_type": "code",
   "execution_count": 96,
   "id": "ea922c41-072e-47dd-9231-9cd0df55e58b",
   "metadata": {},
   "outputs": [],
   "source": [
    "def reconstruct(imprefixL,imprefixR,threshold,camL,camR):\n",
    "    \"\"\"\n",
    "    Simple reconstruction based on triangulating matched pairs of points\n",
    "    between to view which have been encoded with a 20bit gray code.\n",
    "\n",
    "    Parameters\n",
    "    ----------\n",
    "    imprefix : str\n",
    "      prefix for where the images are stored\n",
    "\n",
    "    threshold : float\n",
    "      decodability threshold\n",
    "\n",
    "    camL,camR : Camera\n",
    "      camera parameters\n",
    "\n",
    "    Returns\n",
    "    -------\n",
    "    pts2L,pts2R : 2D numpy.array (dtype=float)\n",
    "\n",
    "    pts3 : 2D numpy.array (dtype=float)\n",
    "\n",
    "    \"\"\"\n",
    "    img_backgroundLColor = plt.imread(imprefixL+\"/color_C0_00.png\")\n",
    "    imgLColor = plt.imread(imprefixL+\"/color_C0_01.png\");\n",
    "#     print(imprefixL+\"/color_C0_00.png\")\n",
    "    \n",
    "    img_backgroundRColor = plt.imread(imprefixR+\"/color_C1_00.png\")\n",
    "    imgRColor = plt.imread(imprefixR+\"/color_C1_01.png\");\n",
    "\n",
    "    imgL = np.mean(imgLColor, axis = 2)\n",
    "    img_backgroundL = np.mean(img_backgroundLColor, axis = 2)\n",
    "    maskL = np.zeros((imgL.shape[0], imgL.shape[1]))\n",
    "\n",
    "    imgR = np.mean(imgRColor, axis = 2)\n",
    "    img_backgroundR = np.mean(img_backgroundRColor, axis = 2)\n",
    "    maskR = np.zeros((imgR.shape[0], imgR.shape[1]))\n",
    "\n",
    "    \n",
    "\n",
    "    CLh,maskLh = cam.decode(imprefixL+\"/frame_C0_\",0,threshold)\n",
    "    CLv,maskLv = cam.decode(imprefixL+\"/frame_C0_\",20,threshold)\n",
    "    CRh,maskRh = cam.decode(imprefixR+\"/frame_C1_\",0,threshold)\n",
    "    CRv,maskRv = cam.decode(imprefixR+\"/frame_C1_\",20,threshold)\n",
    "    \n",
    "    threshold = 0.001\n",
    "    for i in range (imgL.shape[0]):\n",
    "                for j in range(imgL.shape[1]):\n",
    "                    if (abs(imgL[i,j] - img_backgroundL[i,j]) >= threshold):\n",
    "                        maskL[i,j] = 1\n",
    "                    else:\n",
    "                         maskL[i,j] = 0\n",
    "                    if (abs(imgR[i,j] - img_backgroundR[i,j]) >= threshold):\n",
    "                        maskR[i,j] = 1\n",
    "                    else:\n",
    "                         maskR[i,j] = 0\n",
    "\n",
    "    CL = CLh + 1024*CLv\n",
    "    maskL = maskLh*maskLv*maskL\n",
    "    CR = CRh + 1024*CRv\n",
    "    maskR = maskRh*maskRv*maskR\n",
    "    \n",
    "    \n",
    "    plt.imshow(CL*maskL)\n",
    "    plt.title(imprefixL + \"left\")\n",
    "    plt.show()\n",
    "\n",
    "    plt.imshow(CR*maskR)\n",
    "    plt.title(imprefixR + \"right\")\n",
    "    plt.show()\n",
    "\n",
    "    h = CR.shape[0]\n",
    "    w = CR.shape[1]\n",
    "\n",
    "    subR = np.nonzero(maskR.flatten())\n",
    "    subL = np.nonzero(maskL.flatten())\n",
    "\n",
    "    CRgood = CR.flatten()[subR]\n",
    "    CLgood = CL.flatten()[subL]\n",
    "\n",
    "    _,submatchR,submatchL = np.intersect1d(CRgood,CLgood,return_indices=True)\n",
    "\n",
    "    matchR = subR[0][submatchR]\n",
    "    matchL = subL[0][submatchL]\n",
    "\n",
    "    xx,yy = np.meshgrid(range(w),range(h))\n",
    "    xx = np.reshape(xx,(-1,1))\n",
    "    yy = np.reshape(yy,(-1,1))\n",
    "\n",
    "    pts2R = np.concatenate((xx[matchR].T,yy[matchR].T),axis=0)\n",
    "    pts2L = np.concatenate((xx[matchL].T,yy[matchL].T),axis=0)\n",
    "\n",
    "    pts3 = cam.triangulate(pts2L,camL,pts2R,camR)\n",
    "    color= []\n",
    "    \n",
    "    return pts2L,pts2R,pts3\n",
    "\n"
   ]
  },
  {
   "cell_type": "code",
   "execution_count": 97,
   "id": "f6ed43dc-5042-449b-9534-2bfa0481f87e",
   "metadata": {},
   "outputs": [
    {
     "name": "stdout",
     "output_type": "stream",
     "text": [
      "loading( 0 1 )( 2 3 )( 4 5 )( 6 7 )( 8 9 )( 10 11 )( 12 13 )( 14 15 )( 16 17 )( 18 19 )\n",
      "\n",
      "loading( 20 21 )( 22 23 )( 24 25 )( 26 27 )( 28 29 )( 30 31 )( 32 33 )( 34 35 )( 36 37 )( 38 39 )\n",
      "\n",
      "loading( 0 1 )( 2 3 )( 4 5 )( 6 7 )( 8 9 )( 10 11 )( 12 13 )( 14 15 )( 16 17 )( 18 19 )\n",
      "\n",
      "loading( 20 21 )( 22 23 )( 24 25 )( 26 27 )( 28 29 )( 30 31 )( 32 33 )( 34 35 )( 36 37 )( 38 39 )\n",
      "\n"
     ]
    },
    {
     "data": {
      "image/png": "[encoded data removed]",
      "text/plain": [
       "<Figure size 432x288 with 1 Axes>"
      ]
     },
     "metadata": {
      "needs_background": "light"
     },
     "output_type": "display_data"
    },
    {
     "data": {
      "image/png": "[encoded data removed]",
      "text/plain": [
       "<Figure size 432x288 with 1 Axes>"
      ]
     },
     "metadata": {
      "needs_background": "light"
     },
     "output_type": "display_data"
    }
   ],
   "source": [
    "resultfile = 'pts_value.pickle'\n",
    "fid = open(resultfile, \"wb\" ) \n",
    "threshold = 0.05\n",
    "results = {}\n",
    "for x in range (1):\n",
    "    if (x!= 5):\n",
    "        imprefix = \"couple/grab_\"+str(x)+\"_u\"\n",
    "        pts2L,pts2R,pts3 = reconstruct(imprefix,imprefix,threshold,camL,camR)\n",
    "        results[x] = {\"pts2L\": pts2L, \"pts2R\": pts2R, \"pts3\": pts3}\n",
    "pickle.dump(results,fid)\n",
    "fid.close()"
   ]
  },
  {
   "cell_type": "markdown",
   "id": "523a035b-8fbd-419a-8f33-745314f84560",
   "metadata": {},
   "source": [
    "# 3. Mesh\n",
    "Since we are going to generate meshes for many different scans, encapsulate your mesh generation code in a function. That function should take as input the directory of scan images along with any threshold / cleanup parameters which you might want to adjust differently for different scans. You probably want to store the results of this computation (e.g., pts2L/R,pts3,colors) in a pickle file so the simplest approach may be to also pass in the name of the file in which to store the results"
   ]
  },
  {
   "cell_type": "code",
   "execution_count": 10,
   "id": "909fe632-b840-41e5-b6e3-5df195b73f24",
   "metadata": {},
   "outputs": [],
   "source": [
    "# Mesh cleanup parameters\n",
    "def box_limit(boxlimit, pts3, pts2L, pts2R):\n",
    "    index =np.where((pts3[0,:] <= boxlimit[0]))[0]\n",
    "    index = np.concatenate((index, np.where((pts3[0,:] >= boxlimit[1]))[0]))\n",
    "    index = np.concatenate((index, np.where((pts3[1,:] <= boxlimit[2]))[0]))\n",
    "    index = np.concatenate((index, np.where((pts3[1,:] >= boxlimit[3]))[0]))\n",
    "#     print(boxlimit[3])\n",
    "    index = np.concatenate((index, np.where((pts3[2,:] <= boxlimit[4]))[0]))\n",
    "    index = np.concatenate((index, np.where((pts3[2,:] >= boxlimit[5]))[0]))\n",
    "    pts3 = np.delete(pts3,index, axis = 1)\n",
    "    pts2L = np.delete(pts2L,index, axis = 1)\n",
    "    pts2R = np.delete(pts2R,index, axis = 1)\n",
    "    return pts3,pts2L,pts2R\n",
    "\n",
    "# Specify limits along the x,y and z axis of a box containing the object\n",
    "# we will prune out triangulated points outside these limits\n",
    "\n",
    "\n",
    "# Specify a longest allowed edge that can appear in the mesh. Remove triangles\n",
    "# from the final mesh that have edges longer than this value\n",
    "def triangle_pruning(tri, trithresh, pts3, pts2L, pts2R):\n",
    "    \n",
    "    pts3_triangles = pts3.T[tri.simplices]\n",
    "    badtriangles = []\n",
    "    for x in range(len(pts3_triangles)):\n",
    "        row1 = pts3_triangles[x, 0]\n",
    "        row2 =  pts3_triangles[x, 1]\n",
    "        row3 =  pts3_triangles[x, 2]\n",
    "        if (np.linalg.norm(row1-row2) >= trithresh or np.linalg.norm(row1-row3) >= trithresh or np.linalg.norm(row2-row3) >= trithresh):\n",
    "                   badtriangles.append(x)\n",
    "      # see if x is an index of bad triangle\n",
    "      # if so, badtriangles.append(x)\n",
    "#     print(len(badtriangles))\n",
    "#     tri.simplices =np.delete(tri.simplices, badtriangles, 0)\n",
    "    return np.delete(tri.simplices, badtriangles, 0)\n",
    "def mesh(boxlimit, trithresh, pts3, pts2L, pts2R ):\n",
    "#     print(boxlimit)\n",
    "    pts3, pts2L, pts2R = box_limit(boxlimit, pts3, pts2L,pts2R)\n",
    "    tri = scipy.spatial.Delaunay(pts2L.T)\n",
    "    tri.simplices = triangle_pruning(tri, trithresh, pts3, pts2L, pts2R)\n",
    "    mesh = trimesh.Trimesh(vertices=pts3.T,faces=tri.simplices[:,[0,2,1]])\n",
    "    return mesh"
   ]
  },
  {
   "cell_type": "code",
   "execution_count": 80,
   "id": "b800c347-5929-4575-8279-6561cc8979dc",
   "metadata": {},
   "outputs": [],
   "source": [
    "fid = open('pts_value.pickle','rb')\n",
    "results = pickle.load(fid)\n",
    "fid.close\n",
    "# fid = open('mesh_pts.pickle','wb')\n",
    "# results = dict()\n",
    "# visutils.vis_scene(camL,camR,results[7][\"pts3\"],looklength=20)\n",
    "\n",
    "mesh0 = mesh(np.array([-15,25,0,30,-25,-15]), 1.6, results[0][\"pts3\"], results[0][\"pts2L\"],results[0][\"pts2R\"])\n",
    "# mesh1 = mesh(np.array([-15,25,0,20,-40,0]), 1.6, results[1][\"pts3\"], results[1][\"pts2L\"],results[1][\"pts2R\"])\n",
    "# mesh2 = mesh(np.array([-15,25,0,20,-30,-10]), 1.6, results[2][\"pts3\"], results[2][\"pts2L\"],results[2][\"pts2R\"])\n",
    "# mesh3 = mesh(np.array([-15,25,-2,20,-30,-10]), 1.6, results[3][\"pts3\"], results[3][\"pts2L\"],results[3][\"pts2R\"])\n",
    "# mesh4 = mesh(np.array([-10,25,0,20,-20,0]), 1.6, results[4][\"pts3\"], results[4][\"pts2L\"],results[4][\"pts2R\"])\n",
    "# mesh6 = mesh(np.array([12.5,25,0,30,-30,0]), 1.6, results[6][\"pts3\"], results[6][\"pts2L\"],results[6][\"pts2R\"])\n",
    "\n",
    "fid.close\n",
    "# pts3, pts2L, pts2R = box_limit(boxlimit, results[0][\"pts3\"], results[0][\"pts2L\"],results[0][\"pts2R\"])\n",
    "# tri = scipy.spatial.Delaunay(pts2L.T)\n",
    "# tri.simplices = triangle_pruning(tri, trithresh, pts3, pts2L, pts2R)\n",
    "# mesh = trimesh.Trimesh(vertices=pts3.T,faces=tri.simplices[:,[0,2,1]])\n",
    "# mesh.show()"
   ]
  },
  {
   "cell_type": "code",
   "execution_count": 90,
   "id": "45d1dea2-f054-41a7-8192-c8abb48500ed",
   "metadata": {},
   "outputs": [
    {
     "name": "stdout",
     "output_type": "stream",
     "text": [
      "(3, 63214)\n",
      "<trimesh.Trimesh(vertices.shape=(42590, 3), faces.shape=(84973, 3))>\n",
      "(3, 42590)\n"
     ]
    }
   ],
   "source": [
    "pts3 = results[0][\"pts3\"]\n",
    "pts2L = results[0][\"pts2L\"]\n",
    "pts2R = results[0][\"pts2R\"]\n",
    "indices = []\n",
    "print(pts3.shape)\n",
    "print(mesh0)\n",
    "for index, x in enumerate(pts3.T):\n",
    "    if x not in mesh0.vertices:\n",
    "        indices.append(index)\n",
    "pts3 = np.delete(pts3,indices, axis = 1)\n",
    "pts2L = np.delete(pts2L,indices, axis = 1)\n",
    "pts2R = np.delete(pts2R,indices, axis = 1)\n",
    "print(pts3.shape)\n",
    "        \n",
    "    "
   ]
  },
  {
   "cell_type": "code",
   "execution_count": 94,
   "id": "37f42799-98d2-4256-8895-4ed59ab47401",
   "metadata": {},
   "outputs": [],
   "source": [
    "imgLColor = plt.imread(\"couple/grab_0_u/color_C0_01.png\");\n",
    "color = []\n",
    "for x in pts2L.T:\n",
    "        color.append(imgLColor[x[1],x[0]])\n",
    "color = np.array(color)"
   ]
  },
  {
   "cell_type": "code",
   "execution_count": null,
   "id": "9619082b-c74b-4893-852e-9f05ce5a0564",
   "metadata": {},
   "outputs": [],
   "source": []
  },
  {
   "cell_type": "code",
   "execution_count": 1,
   "id": "d1ae75ab-f5ba-4289-879c-e6435a100d47",
   "metadata": {},
   "outputs": [],
   "source": [
    "# mesh0.vertices\n",
    "# a = [-11.74879697,   8.81911254, -24.95106735]\n",
    "# for i in enumerate(pts3.T):\n",
    "#     print(i[1])\n",
    "# #     if i[:1]==[-11.74879697,   8.81911254, -24.95106735]:\n",
    "# #         print(i[0])"
   ]
  },
  {
   "cell_type": "markdown",
   "id": "cfd22ae7-d7aa-42ff-957f-c6bbf20a88eb",
   "metadata": {},
   "source": [
    "# 4. Smooth\n",
    "To get nice mesh results, I recommend implementing some form of mesh smoothing. The simplest approach is to compute for each 3D point the average location of that points neighbors in the mesh (i.e., those which are connected to it by some triangle). You can then replace the point coordinate with this average. You may opt to repeat this process multiple times, each time the mesh will get smoother. However, you don't want to \"oversmooth\" and remove too many details."
   ]
  },
  {
   "cell_type": "code",
   "execution_count": 104,
   "id": "a875fd91-f4ab-40ff-b18d-be7df193d1e4",
   "metadata": {},
   "outputs": [],
   "source": [
    "fid = open('mesh0.ply','wb+')\n",
    "ply = trimesh.exchange.ply.export_ply(mesh0)\n",
    "fid.write(ply)\n",
    "fid.close()\n",
    "fid = open('mesh1.ply','wb+')\n",
    "ply = trimesh.exchange.ply.export_ply(mesh1)\n",
    "fid.write(ply)\n",
    "fid.close()\n",
    "fid = open('mesh2.ply','wb+')\n",
    "ply = trimesh.exchange.ply.export_ply(mesh2)\n",
    "fid.write(ply)\n",
    "fid.close()\n",
    "fid = open('mesh3.ply','wb+')\n",
    "ply = trimesh.exchange.ply.export_ply(mesh3)\n",
    "fid.write(ply)\n",
    "fid.close()\n",
    "fid = open('mesh4.ply','wb+')\n",
    "ply = trimesh.exchange.ply.export_ply(mesh4)\n",
    "fid.write(ply)\n",
    "fid.close()\n",
    "fid = open('mesh6.ply','wb+')\n",
    "ply = trimesh.exchange.ply.export_ply(mesh6)\n",
    "fid.write(ply)\n",
    "fid.close()"
   ]
  },
  {
   "cell_type": "code",
   "execution_count": null,
   "id": "6b30a906-fbba-497d-8eb3-a5f30ab78c7e",
   "metadata": {},
   "outputs": [],
   "source": []
  }
 ],
 "metadata": {
  "kernelspec": {
   "display_name": "Python 3",
   "language": "python",
   "name": "python3"
  },
  "language_info": {
   "codemirror_mode": {
    "name": "ipython",
    "version": 3
   },
   "file_extension": ".py",
   "mimetype": "text/x-python",
   "name": "python",
   "nbconvert_exporter": "python",
   "pygments_lexer": "ipython3",
   "version": "3.8.8"
  }
 },
 "nbformat": 4,
 "nbformat_minor": 5
}
