{
 "cells": [
  {
   "cell_type": "code",
   "execution_count": 1,
   "id": "51b0e6ac-b934-40fe-8190-992e30010b43",
   "metadata": {},
   "outputs": [],
   "source": [
    "import numpy as np\n",
    "import matplotlib.pyplot as plt\n",
    "import cv2\n",
    "import pickle\n",
    "import camutils as cam"
   ]
  },
  {
   "cell_type": "code",
   "execution_count": 2,
   "id": "ffe1438b-7d86-471f-9ad7-5f418c3ac595",
   "metadata": {},
   "outputs": [],
   "source": [
    "resultfile = 'calibration.pickle'\n",
    "fid = open(resultfile, \"rb\")\n",
    "a = pickle.load(fid)\n",
    "fid.close()\n",
    "fx, fy, cx, cy = a['fx'], a['fy'], a['cx'], a['cy']"
   ]
  },
  {
   "cell_type": "code",
   "execution_count": 3,
   "id": "69f80410-5cec-4adf-a074-619fda6401d8",
   "metadata": {},
   "outputs": [],
   "source": [
    "favg = (fx+fy)/2\n",
    "\n",
    "# create Camera objects representing the left and right cameras\n",
    "# use the known intrinsic parameters you loaded in.\n",
    "camL = cam.Camera(f=favg,c=np.array([[cx,cy]]).T,t=np.array([[0,0,0]]).T, R=cam.makerotation(0,0,0))\n",
    "camR = cam.Camera(f=favg,c=np.array([[cx,cy]]).T,t=np.array([[0,0,0]]).T, R=cam.makerotation(0,0,0))\n",
    "\n",
    "# load in the left and right images and find the coordinates of\n",
    "# the chessboard corners using OpenCV\n",
    "imgL = plt.imread('calib_jpg_u/frame_C0_01.jpg')\n",
    "ret, cornersL = cv2.findChessboardCorners(imgL, (8,6), None)\n",
    "pts2L = cornersL.squeeze().T\n",
    "\n",
    "imgR = plt.imread('calib_jpg_u/frame_C1_01.jpg')\n",
    "ret, cornersR = cv2.findChessboardCorners(imgR, (8,6), None)\n",
    "pts2R = cornersR.squeeze().T\n",
    "\n",
    "# generate the known 3D point coordinates of points on the checkerboard in cm\n",
    "pts3 = np.zeros((3,6*8))\n",
    "yy,xx = np.meshgrid(np.arange(8),np.arange(6))\n",
    "pts3[0,:] = 2.8*xx.reshape(1,-1)\n",
    "pts3[1,:] = 2.8*yy.reshape(1,-1)\n",
    "\n",
    "\n",
    "# Now use your calibratePose function to get the extrinsic parameters\n",
    "# for the two images. You may need to experiment with the initialization\n",
    "# in order to get a good result\n",
    "params_init = np.array([0,0,0,0,0,-2]) \n",
    "\n",
    "camL = cam.calibratePose(pts3,pts2L,camL,params_init)\n",
    "camR = cam.calibratePose(pts3,pts2R,camR,params_init)"
   ]
  },
  {
   "cell_type": "code",
   "execution_count": 4,
   "id": "59d9403c-3763-46c4-9ad9-0620a7461937",
   "metadata": {},
   "outputs": [],
   "source": [
    "fid = open(\"cameras.pickle\", \"wb\")\n",
    "v = (camL, camR)\n",
    "pickle.dump(v, fid)\n",
    "fid.close()"
   ]
  },
  {
   "cell_type": "code",
   "execution_count": null,
   "id": "230b75ac-99be-424e-b8a4-39b359d020e8",
   "metadata": {},
   "outputs": [],
   "source": []
  }
 ],
 "metadata": {
  "kernelspec": {
   "display_name": "Python 3",
   "language": "python",
   "name": "python3"
  },
  "language_info": {
   "codemirror_mode": {
    "name": "ipython",
    "version": 3
   },
   "file_extension": ".py",
   "mimetype": "text/x-python",
   "name": "python",
   "nbconvert_exporter": "python",
   "pygments_lexer": "ipython3",
   "version": "3.8.8"
  }
 },
 "nbformat": 4,
 "nbformat_minor": 5
}
